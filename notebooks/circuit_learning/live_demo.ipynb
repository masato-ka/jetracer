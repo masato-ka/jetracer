{
 "cells": [
  {
   "cell_type": "code",
   "execution_count": 1,
   "metadata": {},
   "outputs": [],
   "source": [
    "import torch\n",
    "import torchvision\n",
    "\n",
    "model = torchvision.models.resnet18(pretrained=True)\n",
    "model.fc = torch.nn.Linear(512, 1)\n",
    "\n",
    "device = torch.device('cuda')\n",
    "\n",
    "model.load_state_dict(torch.load('circuit_model.pth'))\n",
    "\n",
    "model = model.to(device).eval().half()"
   ]
  },
  {
   "cell_type": "code",
   "execution_count": 2,
   "metadata": {},
   "outputs": [],
   "source": [
    "import torch2trt\n",
    "import torch\n",
    "\n",
    "data = torch.zeros((1, 3, 224, 224)).cuda().half()\n",
    "\n",
    "model_trt = torch2trt.torch2trt(model, [data], fp16_mode=True)"
   ]
  },
  {
   "cell_type": "code",
   "execution_count": 5,
   "metadata": {},
   "outputs": [],
   "source": [
    "torch.save(model_trt.state_dict(), 'circuit_model_trt_half.pth')"
   ]
  },
  {
   "cell_type": "code",
   "execution_count": 1,
   "metadata": {},
   "outputs": [],
   "source": [
    "import torch\n",
    "from torch2trt import TRTModule\n",
    "\n",
    "model_trt = TRTModule()\n",
    "model_trt.load_state_dict(torch.load('circuit_model_trt_half.pth'))"
   ]
  },
  {
   "cell_type": "code",
   "execution_count": 2,
   "metadata": {},
   "outputs": [],
   "source": [
    "import torch\n",
    "from torch2trt import TRTModule\n",
    "\n",
    "apex_model_trt = TRTModule()\n",
    "apex_model_trt.load_state_dict(torch.load('apex_model_trt.pth'))"
   ]
  },
  {
   "cell_type": "code",
   "execution_count": 3,
   "metadata": {},
   "outputs": [],
   "source": [
    "from jetcam.csi_camera import CSICamera\n",
    "from jetcam.utils import bgr8_to_jpeg\n",
    "\n",
    "camera = CSICamera(width=224, height=224, capture_width=1280, capture_height=720, capture_fps=120)\n",
    "\n",
    "camera.running = True"
   ]
  },
  {
   "cell_type": "code",
   "execution_count": 4,
   "metadata": {},
   "outputs": [],
   "source": [
    "import cv2\n",
    "import os\n",
    "from utils import preprocess"
   ]
  },
  {
   "cell_type": "code",
   "execution_count": 5,
   "metadata": {},
   "outputs": [],
   "source": [
    "import numpy as np"
   ]
  },
  {
   "cell_type": "code",
   "execution_count": 6,
   "metadata": {},
   "outputs": [],
   "source": [
    "from jetracer.nvidia_racecar import NvidiaRacecar\n",
    "\n",
    "car = NvidiaRacecar(\n",
    "    steering_gain=0.7,\n",
    "    steering_offset=0.0,\n",
    "    throttle_gain=-1.0,\n",
    "    throttle_offset=0.0\n",
    ")"
   ]
  },
  {
   "cell_type": "code",
   "execution_count": 7,
   "metadata": {},
   "outputs": [
    {
     "data": {
      "application/vnd.jupyter.widget-view+json": {
       "model_id": "79aca45e2a1447a097c50b4e3208151a",
       "version_major": 2,
       "version_minor": 0
      },
      "text/plain": [
       "FloatSlider(value=0.7, description='steering gain', max=3.0, step=0.001)"
      ]
     },
     "metadata": {},
     "output_type": "display_data"
    },
    {
     "data": {
      "application/vnd.jupyter.widget-view+json": {
       "model_id": "6d29367c8218432b8c93856fdc154c8a",
       "version_major": 2,
       "version_minor": 0
      },
      "text/plain": [
       "FloatSlider(value=0.0, description='steering offset', max=0.5, min=-0.5, step=0.001)"
      ]
     },
     "metadata": {},
     "output_type": "display_data"
    },
    {
     "data": {
      "application/vnd.jupyter.widget-view+json": {
       "model_id": "68b6b89392de40aea414a69231fe83ba",
       "version_major": 2,
       "version_minor": 0
      },
      "text/plain": [
       "FloatSlider(value=1.15, description='speed gain', max=10.0, step=0.001)"
      ]
     },
     "metadata": {},
     "output_type": "display_data"
    },
    {
     "data": {
      "application/vnd.jupyter.widget-view+json": {
       "model_id": "d4d0af1d56db447b9d0cb6b6f88b1f1b",
       "version_major": 2,
       "version_minor": 0
      },
      "text/plain": [
       "FloatSlider(value=0.09, description='speed offset', max=0.5, min=-0.5, step=0.001)"
      ]
     },
     "metadata": {},
     "output_type": "display_data"
    }
   ],
   "source": [
    "from IPython.display import display\n",
    "import ipywidgets\n",
    "\n",
    "steering_gain = ipywidgets.FloatSlider(min=0.0, max=3.0, value=0.7, step=0.001, description='steering gain')\n",
    "steering_offset = ipywidgets.FloatSlider(min=-0.5, max=0.5, value=0.0, step=0.001, description='steering offset')\n",
    "speed_gain = ipywidgets.FloatSlider(min=0.0, max=10.0, value=1.15, step=0.001, description='speed gain')\n",
    "speed_offset = ipywidgets.FloatSlider(min=-0.5, max=0.5, value=0.09, step=0.001, description='speed offset')\n",
    "\n",
    "display(\n",
    "    steering_gain,\n",
    "    steering_offset,\n",
    "    speed_gain,\n",
    "    speed_offset\n",
    ")"
   ]
  },
  {
   "cell_type": "code",
   "execution_count": 49,
   "metadata": {},
   "outputs": [
    {
     "data": {
      "application/vnd.jupyter.widget-view+json": {
       "model_id": "4fe90600198449ad9fd82808ccff81db",
       "version_major": 2,
       "version_minor": 0
      },
      "text/plain": [
       "Image(value=b'', format='jpeg')"
      ]
     },
     "metadata": {},
     "output_type": "display_data"
    }
   ],
   "source": [
    "image_w = ipywidgets.Image(format='jpeg')\n",
    "\n",
    "display(image_w)"
   ]
  },
  {
   "cell_type": "code",
   "execution_count": 62,
   "metadata": {},
   "outputs": [],
   "source": [
    "import cv2\n",
    "\n",
    "from utils import preprocess\n",
    "\n",
    "def get_throttle(x, accell_work = -15.0, max_speed=0.12, min_speed=0.0, base_speed=0.06):\n",
    "    x= np.clip(x, 0, 1)\n",
    "    y = np.exp(accell_work * x); \n",
    "    y = (1-y) * (MIN_SPEED) + (MAX_SPEED) * y \n",
    "    y = np.clip(y, min_speed, max_speed)\n",
    "    return y + base_speed\n",
    "\n",
    "\n",
    "def execute(change):\n",
    "    image = change['new']\n",
    "    data = preprocess(image)\n",
    "    out = model_trt(data)[0].cpu()\n",
    "    xy = apex_model_trt(data)[0].cpu()\n",
    "    \n",
    "    out = float(out[0])\n",
    "    car.throttle = get_throttle(x, accell_work=-5.0)\n",
    "#    car.throttle = np.exp(-15*out) * speed_gain.value + speed_offset.value\n",
    "    \n",
    "    x = float(xy[0])\n",
    "    y = float(xy[1])\n",
    "    car.steering = x * steering_gain.value + steering_offset.value\n",
    "    \n",
    "    xint = int(x * 112 + 112)\n",
    "    yint = int(y * 112 + 112)\n",
    "    image = cv2.circle(image, (xint, yint), 6, (0, 255, 0), 3)\n",
    "    image_w.value = bgr8_to_jpeg(image)"
   ]
  },
  {
   "cell_type": "code",
   "execution_count": 63,
   "metadata": {},
   "outputs": [],
   "source": [
    "execute({'new': camera.value})"
   ]
  },
  {
   "cell_type": "code",
   "execution_count": 64,
   "metadata": {},
   "outputs": [],
   "source": [
    "camera.observe(execute, names='value')"
   ]
  },
  {
   "cell_type": "code",
   "execution_count": 61,
   "metadata": {},
   "outputs": [],
   "source": [
    "camera.unobserve_all()"
   ]
  },
  {
   "cell_type": "code",
   "execution_count": 18,
   "metadata": {},
   "outputs": [
    {
     "data": {
      "text/plain": [
       "101.18514827806122"
      ]
     },
     "execution_count": 18,
     "metadata": {},
     "output_type": "execute_result"
    }
   ],
   "source": [
    "camera.value.mean()"
   ]
  }
 ],
 "metadata": {
  "kernelspec": {
   "display_name": "Python 3",
   "language": "python",
   "name": "python3"
  },
  "language_info": {
   "codemirror_mode": {
    "name": "ipython",
    "version": 3
   },
   "file_extension": ".py",
   "mimetype": "text/x-python",
   "name": "python",
   "nbconvert_exporter": "python",
   "pygments_lexer": "ipython3",
   "version": "3.6.8"
  }
 },
 "nbformat": 4,
 "nbformat_minor": 2
}